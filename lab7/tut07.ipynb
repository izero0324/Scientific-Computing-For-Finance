{
 "cells": [
  {
   "cell_type": "markdown",
   "metadata": {},
   "source": [
    "# Exercise 1\n",
    "1. Suppose that we draw 16 samples from a probability distribution  𝐷, and  𝐷 has a variance of  100. We compute the mean 𝑚 of these  16 samples. Note that the value  𝑚  is a random variable. What is the standard deviation of  𝑚 ?\n",
    "\n",
    "2. State the formula for the standard error of the mean."
   ]
  },
  {
   "cell_type": "markdown",
   "metadata": {},
   "source": [
    "# Exercise 2\n",
    "1. Using the standard Monte Carlo approach, compute an approximate value of  𝜋 from 2000 randomly generated coordinates.\n",
    "2. Using Monte Carlo integration, compute an approximate value of  𝜋   from the following numbers. (This can even be done using a calculator, e.g. on your phone or tablet.)"
   ]
  },
  {
   "cell_type": "code",
   "execution_count": 9,
   "metadata": {},
   "outputs": [
    {
     "data": {
      "text/plain": [
       "3.124"
      ]
     },
     "execution_count": 9,
     "metadata": {},
     "output_type": "execute_result"
    }
   ],
   "source": [
    "import numpy as np\n",
    "\n",
    "co_or_num = 2000\n",
    "X = np.random.random_sample(size=co_or_num)\n",
    "Y = np.random.random_sample(size=co_or_num)\n",
    "pi = 4 * np.mean([int(pow(x,2) + pow(y,2) < 1) for (x,y) in zip(X,Y)])\n",
    "pi\n",
    "\n"
   ]
  },
  {
   "cell_type": "code",
   "execution_count": 19,
   "metadata": {},
   "outputs": [
    {
     "data": {
      "text/plain": [
       "3.0405057612966333"
      ]
     },
     "execution_count": 19,
     "metadata": {},
     "output_type": "execute_result"
    }
   ],
   "source": [
    "import pandas as pd\n",
    "n = [0.379, 0.844, 0.136, 0.095, 0.488, 0.219, 0.467, 0.983, 0.968, 0.167]\n",
    "ser = pd.Series(n, copy=False)\n",
    "np.mean(pow(1-pow(ser,2), 0.5))*4"
   ]
  },
  {
   "cell_type": "markdown",
   "metadata": {},
   "source": [
    "# Exercise 3\n",
    "Using pseudo-code, write down an algorithm for computing the estimated present value of an Asian fixed-strike call option using Monte-Carlo estimation assuming the underlying follows a geometric Brownian motion (GBM)."
   ]
  },
  {
   "cell_type": "markdown",
   "metadata": {},
   "source": []
  }
 ],
 "metadata": {
  "kernelspec": {
   "display_name": "Python 3",
   "language": "python",
   "name": "python3"
  },
  "language_info": {
   "codemirror_mode": {
    "name": "ipython",
    "version": 3
   },
   "file_extension": ".py",
   "mimetype": "text/x-python",
   "name": "python",
   "nbconvert_exporter": "python",
   "pygments_lexer": "ipython3",
   "version": "3.11.5"
  },
  "orig_nbformat": 4
 },
 "nbformat": 4,
 "nbformat_minor": 2
}
