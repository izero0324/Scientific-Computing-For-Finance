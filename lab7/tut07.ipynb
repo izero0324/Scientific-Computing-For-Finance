{
 "cells": [
  {
   "cell_type": "markdown",
   "metadata": {},
   "source": [
    "# Exercise 1\n",
    "1. Suppose that we draw 16 samples from a probability distribution  𝐷, and  𝐷 has a variance of  100. We compute the mean 𝑚 of these  16 samples. Note that the value  𝑚  is a random variable. What is the standard deviation of  𝑚 ?\n",
    "\n",
    "2. State the formula for the standard error of the mean."
   ]
  },
  {
   "cell_type": "markdown",
   "metadata": {},
   "source": [
    "# Exercise 2\n",
    "1. Using the standard Monte Carlo approach, compute an approximate value of  𝜋 from 2000 randomly generated coordinates.\n",
    "2. Using Monte Carlo integration, compute an approximate value of  𝜋   from the following numbers. (This can even be done using a calculator, e.g. on your phone or tablet.)"
   ]
  },
  {
   "cell_type": "code",
   "execution_count": 9,
   "metadata": {},
   "outputs": [
    {
     "data": {
      "text/plain": [
       "3.124"
      ]
     },
     "execution_count": 9,
     "metadata": {},
     "output_type": "execute_result"
    }
   ],
   "source": [
    "import numpy as np\n",
    "\n",
    "co_or_num = 2000\n",
    "X = np.random.random_sample(size=co_or_num)\n",
    "Y = np.random.random_sample(size=co_or_num)\n",
    "pi = 4 * np.mean([int(pow(x,2) + pow(y,2) < 1) for (x,y) in zip(X,Y)])\n",
    "pi\n",
    "\n"
   ]
  },
  {
   "cell_type": "code",
   "execution_count": 19,
   "metadata": {},
   "outputs": [
    {
     "data": {
      "text/plain": [
       "3.0405057612966333"
      ]
     },
     "execution_count": 19,
     "metadata": {},
     "output_type": "execute_result"
    }
   ],
   "source": [
    "import pandas as pd\n",
    "n = [0.379, 0.844, 0.136, 0.095, 0.488, 0.219, 0.467, 0.983, 0.968, 0.167]\n",
    "ser = pd.Series(n, copy=False)\n",
    "np.mean(pow(1-pow(ser,2), 0.5))*4"
   ]
  },
  {
   "cell_type": "markdown",
   "metadata": {},
   "source": [
    "# Exercise 3\n",
    "Using pseudo-code, write down an algorithm for computing the estimated present value of an Asian fixed-strike call option using Monte-Carlo estimation assuming the underlying follows a geometric Brownian motion (GBM)."
   ]
  },
  {
   "cell_type": "code",
   "execution_count": 10,
   "metadata": {},
   "outputs": [
    {
     "data": {
      "text/plain": [
       "[['a', 'b', 'c']]"
      ]
     },
     "execution_count": 10,
     "metadata": {},
     "output_type": "execute_result"
    }
   ],
   "source": [
    "#list(map(len, [ [1], [2], [3] ]))\n",
    "#list(map(len, [ '1', '2', '3' ]))\n",
    "list(map(lambda x: x.split(' '), ['a b c']))"
   ]
  },
  {
   "cell_type": "markdown",
   "metadata": {},
   "source": []
  },
  {
   "cell_type": "code",
   "execution_count": 20,
   "metadata": {},
   "outputs": [
    {
     "data": {
      "text/plain": [
       "True"
      ]
     },
     "execution_count": 20,
     "metadata": {},
     "output_type": "execute_result"
    }
   ],
   "source": [
    "a = 1\n",
    "b = 'True'\n",
    "a and( b=='True')"
   ]
  },
  {
   "cell_type": "code",
   "execution_count": 22,
   "metadata": {},
   "outputs": [
    {
     "data": {
      "text/plain": [
       "0"
      ]
     },
     "execution_count": 22,
     "metadata": {},
     "output_type": "execute_result"
    }
   ],
   "source": [
    "from functools import reduce\n",
    "reduce(lambda a,b: a * b, [1, 2, 3], 0)"
   ]
  },
  {
   "cell_type": "code",
   "execution_count": 23,
   "metadata": {},
   "outputs": [
    {
     "data": {
      "text/plain": [
       "[{'x': 1}, {'x': 3, 'y': 4}]"
      ]
     },
     "execution_count": 23,
     "metadata": {},
     "output_type": "execute_result"
    }
   ],
   "source": [
    "x1 = {'x': 1}\n",
    "y2 = {'y': 2}\n",
    "x3_y4 = {'x': 3, 'y': 4}\n",
    "list(filter(lambda d: 'x' in d.keys(), [ x1, y2, x3_y4 ]))"
   ]
  },
  {
   "cell_type": "code",
   "execution_count": 24,
   "metadata": {},
   "outputs": [
    {
     "data": {
      "text/plain": [
       "[]"
      ]
     },
     "execution_count": 24,
     "metadata": {},
     "output_type": "execute_result"
    }
   ],
   "source": [
    "list(filter(lambda d: 0 in d.values(), [ x1, y2, x3_y4 ]))"
   ]
  },
  {
   "cell_type": "code",
   "execution_count": 25,
   "metadata": {},
   "outputs": [
    {
     "data": {
      "text/plain": [
       "120"
      ]
     },
     "execution_count": 25,
     "metadata": {},
     "output_type": "execute_result"
    }
   ],
   "source": [
    "lst = [1, 2,3,4,5,6,7,8]\n",
    "reduce(lambda x, y: x+y, map(lambda a: a*a, filter(lambda d: d%2 == 0, lst)), 0)"
   ]
  },
  {
   "cell_type": "code",
   "execution_count": 26,
   "metadata": {},
   "outputs": [
    {
     "data": {
      "text/plain": [
       "120"
      ]
     },
     "execution_count": 26,
     "metadata": {},
     "output_type": "execute_result"
    }
   ],
   "source": [
    "4 + 16+36+64"
   ]
  },
  {
   "cell_type": "code",
   "execution_count": 31,
   "metadata": {},
   "outputs": [
    {
     "data": {
      "text/plain": [
       "'tango'"
      ]
     },
     "execution_count": 31,
     "metadata": {},
     "output_type": "execute_result"
    }
   ],
   "source": [
    "reduce(lambda a,b: a if len(a) > len(b) else b, [\"oscar\", \"papa\", \"tango\"])"
   ]
  },
  {
   "cell_type": "code",
   "execution_count": null,
   "metadata": {},
   "outputs": [],
   "source": []
  }
 ],
 "metadata": {
  "kernelspec": {
   "display_name": "Python 3",
   "language": "python",
   "name": "python3"
  },
  "language_info": {
   "codemirror_mode": {
    "name": "ipython",
    "version": 3
   },
   "file_extension": ".py",
   "mimetype": "text/x-python",
   "name": "python",
   "nbconvert_exporter": "python",
   "pygments_lexer": "ipython3",
   "version": "3.11.5"
  },
  "orig_nbformat": 4
 },
 "nbformat": 4,
 "nbformat_minor": 2
}
