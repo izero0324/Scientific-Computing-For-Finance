{
 "cells": [
  {
   "cell_type": "markdown",
   "metadata": {},
   "source": [
    "# Lab Session 4 - Coursework Assignment #1\n",
    "\n",
    ">These exercises will be part of your formal assessment. They constitute half the coursework for this module, and 10% of the overall mark.\n",
    "\n",
    ">You should create a Jupyter Notebook, Word document, or PDF file (although using Jupyter Notebook is the strongly preferred option here), which contains all of your Python code, and any output that it produces. For longer solutions, you should also make use of Python comments, as well as additional written explanations of your code. You must submit the final .ipynb file to KEATS no later than the deadline on 10 November. This deadline is set so as to give you a large amount of time and freedom for working on this piece of coursework, but it is expected that you are able to submit the solutions much sooner than this deadline, and you are encouraged to do so. You may discuss the exercises with each other, but the final report should be your own work, and you must ensure that you have read the school's policy regarding plagiarism. Plagiarism is passing off someone else’s work as your own, and the penalties for plagiarising by the College can be severe. Uploading work to KEATS is regarded by the Department as a statement by the student concerned, confirming that the work has not been plagiarised.\n",
    "\n",
    "> Authorized by Izero0324(k23110833) / Only for KCL Scientific computing course"
   ]
  },
  {
   "cell_type": "markdown",
   "metadata": {},
   "source": [
    "## Assessment criteria\n",
    "> The final mark awarded will be based on a qualitative assessment of your work. In addition to the correctness of your solution, the criteria used in assessing your work will include the clarity and coherence of your written explanations, the clarity of your graphs (ensure that axes are correctly labelled and that the graph has a title), readability of the code, and the lack of duplicated elements in your code."
   ]
  },
  {
   "cell_type": "markdown",
   "metadata": {},
   "source": [
    "## Preliminaries\n",
    "Execute the following import statements and directive."
   ]
  },
  {
   "cell_type": "code",
   "execution_count": 1,
   "metadata": {},
   "outputs": [],
   "source": [
    "import numpy as np\n",
    "import matplotlib.pyplot as plt\n",
    "%matplotlib inline "
   ]
  },
  {
   "cell_type": "markdown",
   "metadata": {},
   "source": [
    "## Exercise 1\n",
    "Create an array of floating-point numbers from 0 (inclusive) to 10 (exclusive), counting in increments of 0.2. You should not use a loop for this exercise.\n",
    "\n",
    "> My thoughts: While I can't use a loop in this exercise, means we can't use either a for loop nor a while loop.\n",
    "> 1. The first solution comes into my mind will be building up an array with the numpy libary `np.arange` to form the array\n",
    "> 2. The function `np.arange` takes three arguments (start, stop, step), and it's (0, 10, 0.2) to fit the requirements."
   ]
  },
  {
   "cell_type": "code",
   "execution_count": 2,
   "metadata": {},
   "outputs": [
    {
     "name": "stdout",
     "output_type": "stream",
     "text": [
      "The Array for Exercise 1 is : [0.  0.2 0.4 0.6 0.8 1.  1.2 1.4 1.6 1.8 2.  2.2 2.4 2.6 2.8 3.  3.2 3.4\n",
      " 3.6 3.8 4.  4.2 4.4 4.6 4.8 5.  5.2 5.4 5.6 5.8 6.  6.2 6.4 6.6 6.8 7.\n",
      " 7.2 7.4 7.6 7.8 8.  8.2 8.4 8.6 8.8 9.  9.2 9.4 9.6 9.8]\n"
     ]
    }
   ],
   "source": [
    "# Build an array named array_ex1, the arguments in the function np.arrange is (start, stop, step)\n",
    "array_ex1 = np.arange(0, 10, 0.2) \n",
    "print('The Array for Exercise 1 is :', array_ex1) # print out the array and check if it's right"
   ]
  },
  {
   "cell_type": "markdown",
   "metadata": {},
   "source": [
    "## Exercise 2\n",
    "Create another array that contains the square of every value from the previous exercise. Again, you should not make use of a loop.\n",
    "\n",
    "> My thoughts: \n",
    "> 1. To create an array based on the previous array, we don't need to call the function `np.arange` again. (Following the ''DRY'' principle)\n",
    "> 2. While we still can't use a loop, I concider using a `map` function and a `lambda` function `x: x**2` to create the square of every value from the array we've created in *Exercise 1*\n",
    "> 3. I transform the array to a list to make the mapping easier. As a result, I use the build-in function tolist() to make thee array `array_ex1` into a list, and use the `list()` function to transform the whole map to a list.\n",
    "> 4. Finally, I transfer the mapped list into a `np.array` again and assign it to a new array `array_ex2`"
   ]
  },
  {
   "cell_type": "code",
   "execution_count": 3,
   "metadata": {},
   "outputs": [
    {
     "name": "stdout",
     "output_type": "stream",
     "text": [
      "The Array for Exercise 1 is : [0.000e+00 4.000e-02 1.600e-01 3.600e-01 6.400e-01 1.000e+00 1.440e+00\n",
      " 1.960e+00 2.560e+00 3.240e+00 4.000e+00 4.840e+00 5.760e+00 6.760e+00\n",
      " 7.840e+00 9.000e+00 1.024e+01 1.156e+01 1.296e+01 1.444e+01 1.600e+01\n",
      " 1.764e+01 1.936e+01 2.116e+01 2.304e+01 2.500e+01 2.704e+01 2.916e+01\n",
      " 3.136e+01 3.364e+01 3.600e+01 3.844e+01 4.096e+01 4.356e+01 4.624e+01\n",
      " 4.900e+01 5.184e+01 5.476e+01 5.776e+01 6.084e+01 6.400e+01 6.724e+01\n",
      " 7.056e+01 7.396e+01 7.744e+01 8.100e+01 8.464e+01 8.836e+01 9.216e+01\n",
      " 9.604e+01]\n"
     ]
    }
   ],
   "source": [
    "# Build a new array named array_ex2. \n",
    "array_ex2 = np.array(list(map(lambda x : x ** 2 , array_ex1.tolist())))\n",
    "print('The Array for Exercise 1 is :', array_ex2)        # print the array to check the output"
   ]
  },
  {
   "cell_type": "markdown",
   "metadata": {},
   "source": [
    "> Another thought:\n",
    "> We can apply operators direct on arrays, so `square_array = array ** 2` will do the trick"
   ]
  },
  {
   "cell_type": "code",
   "execution_count": 4,
   "metadata": {},
   "outputs": [
    {
     "name": "stdout",
     "output_type": "stream",
     "text": [
      "The easy way : [0.000e+00 4.000e-02 1.600e-01 3.600e-01 6.400e-01 1.000e+00 1.440e+00\n",
      " 1.960e+00 2.560e+00 3.240e+00 4.000e+00 4.840e+00 5.760e+00 6.760e+00\n",
      " 7.840e+00 9.000e+00 1.024e+01 1.156e+01 1.296e+01 1.444e+01 1.600e+01\n",
      " 1.764e+01 1.936e+01 2.116e+01 2.304e+01 2.500e+01 2.704e+01 2.916e+01\n",
      " 3.136e+01 3.364e+01 3.600e+01 3.844e+01 4.096e+01 4.356e+01 4.624e+01\n",
      " 4.900e+01 5.184e+01 5.476e+01 5.776e+01 6.084e+01 6.400e+01 6.724e+01\n",
      " 7.056e+01 7.396e+01 7.744e+01 8.100e+01 8.464e+01 8.836e+01 9.216e+01\n",
      " 9.604e+01]\n"
     ]
    }
   ],
   "source": [
    "array_ex2_ex = array_ex1 ** 2\n",
    "print('The easy way :', array_ex2_ex)"
   ]
  },
  {
   "cell_type": "markdown",
   "metadata": {},
   "source": [
    "## Exercise 3\n",
    "Plot the function y = x ** 2 over the domain [0, 10) in increments of 0.2.\n",
    "\n",
    "> My thoughts: \n",
    "> 1. To plot in Python, we'll have to import the libary `matplotlib`. \n",
    "> 2. The specific funtion `matplotlib.plot` was imported as `plt` during preliminary.\n",
    "> 3. We'll need a X axis over the domain [0,10) in increments of 0.2, which is exactly the array we built `array_ex1`.\n",
    "> 4. The y axis equals to the square of every point in the array `array_ex1`, and which is the array we built in the exercise 2.\n",
    "> 5. We use the function `plt.plot` to plot the diagram. The argments are (x_axis, y_axis)\n",
    "> 6. To make the graph clear, I add title, and xy labels on to the graph"
   ]
  },
  {
   "cell_type": "code",
   "execution_count": 6,
   "metadata": {},
   "outputs": [
    {
     "data": {
      "text/plain": [
       "<matplotlib.legend.Legend at 0x117ff4a90>"
      ]
     },
     "execution_count": 6,
     "metadata": {},
     "output_type": "execute_result"
    },
    {
     "data": {
      "image/png": "[encoded data removed]",
      "text/plain": [
       "<Figure size 640x480 with 1 Axes>"
      ]
     },
     "metadata": {},
     "output_type": "display_data"
    }
   ],
   "source": [
    "plt.plot(array_ex1, array_ex2, label= 'y = ${x^2}$')    # plot the function, label the plot as y = x**2\n",
    "plt.title(\"Exercise 3 - Plot 'y = x ** 2'\")             # add title for the diagram\n",
    "plt.xlabel(\"x\")                                         # add label for x axis\n",
    "plt.ylabel(\"y\")                                         # add label for y axis\n",
    "plt.legend()                                            # add legend label"
   ]
  },
  {
   "cell_type": "markdown",
   "metadata": {},
   "source": [
    "## Exercise 4\n",
    "Plot the function y = cos(x) over the domain [0, 2π) in intervals of $ 5 × {10 ^ {− 2}}. $\n",
    "\n",
    "> My thoughts:\n",
    "> 1. To plot a function, we will have to use the `plt` function as Exercise 3\n",
    "> 2. In this exercise, we will have to introduce two mathematic functions : `cos` and `π` \n",
    "> 3. We can use the build-in function in numpy `np.cos()` and `np.pi()` to make the arrays for x and y axis\n",
    "> 4. For x axis, we use a `np.arange` function to make an stepped array, the step will be `5e-2` as the question mentioned\n",
    "> 5. For the y axis, we appy the `np.cos()` function on the array built for x axis\n",
    "> 6. Plot the function with `plt.plot` and add title and labels."
   ]
  },
  {
   "cell_type": "code",
   "execution_count": null,
   "metadata": {},
   "outputs": [],
   "source": [
    "# Build arrays for x and y axis\n",
    "array_ex4_x = np.arange(0, 2 * np.pi, 5e-2)\n",
    "array_ex4_y = np.cos(array_ex4_x)\n",
    "\n",
    "# Plot the function\n",
    "plt.plot(array_ex4_x, array_ex4_y)          \n",
    "plt.title(\"Exercise 4 - Plot 'y = cos(x)'\") # add title for the diagram\n",
    "plt.xlabel(\"x\")                             # add label for x axis\n",
    "plt.ylabel(\"y\")                             # add label for y axis"
   ]
  },
  {
   "cell_type": "markdown",
   "metadata": {},
   "source": [
    "## Exercise 5\n",
    "Plot the function $ y = 100 x − {x ^ 2} $ over the domain [0, 200) in intervals of $1 × {10 ^ {-2}}$\n",
    "\n",
    "> My thoughts:\n",
    "> 1. To plot a function, we will have to use the `plt` function as Exercise 3\n",
    "> 2. For x axis, we use a `np.arange` function to make an stepped array, the step will be `1e-2` as the question mentioned\n",
    "> 3. For the y axis, we appy the function `y = 100x - x^2` on the array built for x axis\n",
    "> 4. Plot the function with `plt.plot` and add title and labels."
   ]
  },
  {
   "cell_type": "code",
   "execution_count": null,
   "metadata": {},
   "outputs": [],
   "source": [
    "# Build arrays for x and y axis\n",
    "array_ex5_x = np.arange(0, 200, 1e-2)\n",
    "array_ex5_y = 100 * (array_ex5_x) - (array_ex5_x) ** 2\n",
    "\n",
    "# Plot the function\n",
    "plt.plot(array_ex5_x, array_ex5_y)          \n",
    "plt.title(\"Exercise 5 - Plot 'y = 100x-x**2'\")   # add title for the diagram\n",
    "plt.xlabel(\"x\")                                  # add label for x axis\n",
    "plt.ylabel(\"y\")                                  # add label for y axis"
   ]
  },
  {
   "cell_type": "markdown",
   "metadata": {},
   "source": [
    "## Exercise 6\n",
    "In the Spyder IDE, you can obtain the documentation for a particular function or method by moving the cursor to the beginning of the function-name and pressing Ctrl-I.\n",
    "\n",
    "Read the documentation for the plot() function paying particular attention to the examples. Alternatively, you can look up the documentation for this function in an online reference. You may also consult the pyplot tutorial.\n",
    "\n",
    "Repeat the plots from the previous exercises, but with:\n",
    "- Green lines instead of the default blue.\n",
    "- Red circle markers instead of lines\n",
    "\n",
    "> My thoughts:\n",
    "> 1. Reading through the documents, there's two arguments in the plot function for changing line colors and markers\n",
    "> 2. The argument to change color will be `color`, we can assign the name of the color or the code of RGB\n",
    "> 3. The argument to change lines to circle markers is `marker` (We can choose from -/./o/*/^/-- )\n",
    "> 4. Or we can combine the two arguments, take green star for example: `\"g*\"`\n",
    "\n",
    "> I will demo changing colors with exercise 4 and markers change with exercise 3 because of the less points makes the marker clearer"
   ]
  },
  {
   "cell_type": "code",
   "execution_count": null,
   "metadata": {},
   "outputs": [],
   "source": [
    "# Line color change demo: from Default blue line into green lines\n",
    "plt.plot(array_ex4_x, array_ex4_y, color='g',)          \n",
    "plt.title(\"Exercise 6 - Plot green line\")        # add title for the diagram\n",
    "plt.xlabel(\"x\")                                  # add label for x axis\n",
    "plt.ylabel(\"y\")                                  # add label for y axis"
   ]
  },
  {
   "cell_type": "code",
   "execution_count": null,
   "metadata": {},
   "outputs": [],
   "source": [
    "# Line color change demo using RGB code: from Default blue line into green lines\n",
    "plt.plot(array_ex4_x, array_ex4_y, color='#2CA02C',)          \n",
    "plt.title(\"Exercise 6.1 - Plot green line\")        # add title for the diagram\n",
    "plt.xlabel(\"x\")                                  # add label for x axis\n",
    "plt.ylabel(\"y\")                                  # add label for y axis"
   ]
  },
  {
   "cell_type": "code",
   "execution_count": null,
   "metadata": {},
   "outputs": [],
   "source": [
    "# Plot red circles\n",
    "plt.plot(array_ex1, array_ex2, 'ro')        \n",
    "plt.title(\"Exercise 6 - Plot red circles'\") # add title for the diagram\n",
    "plt.xlabel(\"x\")                             # add label for x axis\n",
    "plt.ylabel(\"y\")                             # add label for y axis"
   ]
  },
  {
   "cell_type": "markdown",
   "metadata": {},
   "source": [
    "## Exercise 7\n",
    "You can label each axis by calling the functions xlabel() and ylabel() in the pyplot package, and you can provide a title for the entire graph using the function title().\n",
    "\n",
    "If you want to label graphs using the console, you will need to write multiple Python statements on the same line (an exception to this is if you are using the Jupyter Qt Console, where you can use shift-enter to input multi-line code). Python allows you to do this using the ; character to separate statements that would normally be written on separate lines. Note that in general, when you are writing programs, this can lead to code that is hard to read. However, feel free to use this syntax in these exercises or when plotting graphs interactively. For example:\n",
    "\n",
    "plt.plot(x, y); plt.xlabel('x'); plt.main('My graph')\n",
    "Repeat Exercise 4, now labelling each axis.\n",
    "\n",
    "> My thoughts:\n",
    "> 1. I've already label the x,y axis and titles during exercise 4\n",
    "> 2. I'll try to put them into the same line to find out if it performs the same output"
   ]
  },
  {
   "cell_type": "code",
   "execution_count": null,
   "metadata": {},
   "outputs": [],
   "source": [
    "# Plot the function by a single line\n",
    "plt.plot(array_ex4_x, array_ex4_y); plt.title(\"Exercise 4 - Plot 'y = cos(x)'\"); plt.xlabel(\"x\"); plt.ylabel(\"y\")"
   ]
  },
  {
   "cell_type": "markdown",
   "metadata": {},
   "source": [
    "## Exercise 8\n",
    "You can also use mathematical notation in axis labels. Repeat Exercise 5, but this time label each axis appropriately, using mathematical notation.\n",
    "\n",
    "> My thoughts:\n",
    "> 1. I will copy the codes from Exercise 5, without re-defining the arrays because we haven't change the arrays\n",
    "> 2. Because I had already put the labels on the plot, the only thing I do here will be changing the title in to a mathematical notion\n",
    "> 3. To apply mathematical notions, we'll have to put the function between `$` sign"
   ]
  },
  {
   "cell_type": "code",
   "execution_count": null,
   "metadata": {},
   "outputs": [],
   "source": [
    "# Re-plot the function and make the title into mathematical format\n",
    "plt.plot(array_ex5_x, array_ex5_y)          \n",
    "plt.title(\"Exercise 5 - Plot ${y = 100x- {x^2}}$\")  # add title for the diagram\n",
    "plt.xlabel(\"${x}$\")                                     # add label for x axis\n",
    "plt.ylabel(\"${y = 100x - {x^2}}$\")                                     # add label for y axis"
   ]
  },
  {
   "cell_type": "markdown",
   "metadata": {},
   "source": [
    "## Exercise 9\n",
    "This question is about matrices in numpy. Create a variable representing the matrix $ \\begin{bmatrix} 1 & 2 \\\\ 3 & 4\\end{bmatrix}$\n",
    ", find its inverse, and assign the result to the variable Y.\n",
    "\n",
    "> My thoughts:\n",
    "> 1. To create a matrix in numpy, we can use the function `np.matrix`\n",
    "> 2. We seperate the elements in the same row with a blank and seperate different rows with a \";\" mark \n",
    "> 3. We assign the matrix to `matrix_ex9`\n",
    "> 4. To find the inverse matrix, we simply apply `matrix.I` and assign it the variable Y as requested"
   ]
  },
  {
   "cell_type": "code",
   "execution_count": null,
   "metadata": {},
   "outputs": [],
   "source": [
    "matrix_ex9 = np.matrix('1 2; 3 4')              # Create a matrix by np.matrix\n",
    "print('The original matrix is : ',matrix_ex9)   # Print to check if the matrix is right\n",
    "Y = matrix_ex9.I                                # Get the Inverse of the matrix\n",
    "print('The inverse matrix Y  is: ', Y)          # Print to check the result"
   ]
  },
  {
   "cell_type": "markdown",
   "metadata": {},
   "source": [
    "> Another approch:\n",
    "> We can stack arrays to form a matrix\n",
    "> We can use `np.array` to record the elements in the matrix and change it into a matrix by `np.matrix`"
   ]
  },
  {
   "cell_type": "code",
   "execution_count": null,
   "metadata": {},
   "outputs": [],
   "source": [
    "array_ex9 = np.array([[1, 2], [3, 4]])  # Create an array to record the elements of a matrix\n",
    "Y = np.matrix(array_ex9).I              # Change the data type from array to matrix and then do a Inverse\n",
    "print('The inverse matrix Y  is: ', Y)  # Print to check the result"
   ]
  },
  {
   "cell_type": "markdown",
   "metadata": {},
   "source": [
    "## Exercise 10\n",
    "Compute $  {Y × \\begin{bmatrix} 1  \\\\ 2 \\end{bmatrix} } $ where Y  is the result from the previous exercise.\n",
    "\n",
    "> My thoughts:\n",
    "> 1. We use the previous matrix Y = $\\begin{bmatrix} -2 & 1\\\\ 1.5 & -0.5 \\end{bmatrix}$\n",
    "> 2. To calculate a inner sum, we simply apply the \"*\" simble"
   ]
  },
  {
   "cell_type": "code",
   "execution_count": null,
   "metadata": {},
   "outputs": [],
   "source": [
    "matrix_ex10 = np.matrix('1;2')\n",
    "result_ex10 = Y * matrix_ex10\n",
    "print(result_ex10)"
   ]
  },
  {
   "cell_type": "markdown",
   "metadata": {},
   "source": [
    "## Exercise 11\n",
    "Create an array containing a sample of 100 random values drawn from a standard normal distribution ∼ N (0, 1) and assign it to a variable.\n",
    "\n",
    "> My thoughts:\n",
    "> 1. We have to generate a set of random values so we'll have to import the `random` package\n",
    "> 2. We call the function `random.normal()` and set the parameter `size = 100` to make a 100 random value array ∼ N (0, 1)\n",
    "> 3. We can check the result by calculating the mean and std of the array so see if mean ~ 0 and std ~ 1 (variance = $ std ^2 $)"
   ]
  },
  {
   "cell_type": "code",
   "execution_count": null,
   "metadata": {},
   "outputs": [],
   "source": [
    "from numpy.random import normal                             # Import the function normal from random package\n",
    "array_ex11 = normal(size = 100)                             # create a 100 element array ~ N(0, 1)\n",
    "print('The mean of array is %.2f, and the std is %.2f'      # Calculate and print the mean and std to check the result\n",
    "      %(sum(array_ex11)/100, np.std(array_ex11)))"
   ]
  },
  {
   "cell_type": "markdown",
   "metadata": {},
   "source": [
    "## Exercise 12\n",
    "Plot a histogram of the data from the previous exercise.\n",
    "\n",
    "> My thoughts:\n",
    "> 1. To plot a histogram, we will have to use the function `hist` from `matplotlib`\n",
    "> 2. We add title and x,y labels to the histogram"
   ]
  },
  {
   "cell_type": "code",
   "execution_count": null,
   "metadata": {},
   "outputs": [],
   "source": [
    "plt.hist(array_ex11)                                    # Plot the histogram by hist function\n",
    "plt.title(                                              # Assign title to the histogram\n",
    "    'Histogram of normally distributed data ~ N(0, 1)'\n",
    "    )\n",
    "plt.xlabel('value'); plt.ylabel('count')                # Add labels for x and y axis\n",
    "plt.show()                                              # Show the plot"
   ]
  },
  {
   "cell_type": "markdown",
   "metadata": {},
   "source": [
    "## Exercise 13\n",
    "Use the numpy.random.randint() function to generate a Bernoulli sequence $(ϵ_1, ϵ_2, …, ϵ_{tmax})$ with $ t_{max} = 100 $ where each $ ϵ_t $ is an i.i.d. random variable with $ p(ϵ_t = 0) = \\frac1 2 $ and $ p(ϵ_t = 1) = \\frac1 2 $. Assign the final result to a variable for later use.\n",
    "\n",
    "> My thoughts:\n",
    "> 1. First, import the `randint()` function from `np.random`\n",
    "> 2. Set a variable t_max for storing the max length\n",
    "> 3. create a Bernoulli sequence by calling the function `numpy.random.randint()` with the parameter `size = t_max`\n",
    "> 4. Set the upperbond of the function `randint` to 2 to assure the numbers are only 1 and 0\n",
    "> 5. plot the histogram of the array to check the result"
   ]
  },
  {
   "cell_type": "code",
   "execution_count": null,
   "metadata": {},
   "outputs": [],
   "source": [
    "from numpy.random import randint\n",
    "t_max = 100                             # Set the size to 100\n",
    "array_ex13 = randint(0, 2, size = t_max)   # generate a array of Bernoulli sequence\n",
    "#plot the array as a histogram to check if the result is right\n",
    "plt.hist(array_ex13)\n",
    "plt.title('Exercise 13 - Bernoulli sequence') \n",
    "plt.xlabel('ϵ'); plt.ylabel('count')             \n"
   ]
  },
  {
   "cell_type": "markdown",
   "metadata": {},
   "source": [
    "## Exercise 14\n",
    "Read the documentation of the numpy.where() function. Use numpy.where() function to create a new sequence, substituting -1 in place of 0 in the result from the previous exercise.\n",
    "\n",
    "> My thoughts:\n",
    "> 1. The definition of function `numpy.where` is `numpy.where(condition, [x, y, ]/)`\n",
    "> 2. To change all the 0s to -1, first we find out the zeros and then replace them with -1 \n",
    "> 3. We can simply set the `condition` to `x == 1` to find all the ones.\n",
    "> 4. We set the third argument in funciton `numpy.where` to '-1' to change all the zeros to -1\n",
    "> 5. we plot the histogram to check if the results are right"
   ]
  },
  {
   "cell_type": "code",
   "execution_count": null,
   "metadata": {},
   "outputs": [],
   "source": [
    "array_ex14 = np.where(array_ex13 == 1, array_ex13, -1) # change all the elements that != 1 to -1\n",
    "# plt the hist to check the results\n",
    "plt.hist(array_ex14)\n",
    "plt.title('Exercise 14 - np.where') \n",
    "plt.xlabel('ϵ'); plt.ylabel('count')             \n"
   ]
  },
  {
   "cell_type": "markdown",
   "metadata": {},
   "source": [
    "## Exercise 15\n",
    "Using the result from the previous exercise, compute an integer sequence $ y = (y_0, y_1, …, y_n)$ where $y_i = \\sum_{j=1}^{i} ϵ_j$ and plot the result. Your code should be vectorized, that is, it should not make use of a for-loop.\n",
    "\n",
    "> My thoughts:\n",
    "> 1. This exercise looks like a cumulative sum problem\n",
    "> 2. We can easily get the cumulative sum by the function `np.cumsum`\n",
    "> 3. plot the result by `plt.plot`"
   ]
  },
  {
   "cell_type": "code",
   "execution_count": null,
   "metadata": {},
   "outputs": [],
   "source": [
    "y = np.cumsum(array_ex14) # Apply the function `cumsum` from numpy\n",
    "# plot the result\n",
    "plt.plot(y)\n",
    "plt.title('Exercise 15 - Sumulative Sum $y_i = \\sum_{j=1}^{i} ϵ_j$ ')\n",
    "plt.xlabel('i'); plt.ylabel('$ \\sum$')"
   ]
  },
  {
   "cell_type": "markdown",
   "metadata": {},
   "source": [
    "## Exercise 16\n",
    "Plot n = 20 independent realisations of the above process on the same graph in different colours. Your solution should not make use of a for loop.\n",
    "\n",
    "> My thoughts:\n",
    "> 1. We can't use a for loop, to aviod repeating to much, I will combine all the arrays into a 2d array\n",
    "> 2. Just like *Exercise 13* , we set up a variable `t_max` for the max length, and set `n_realiz` for independent realisations\n",
    "> 3. We can use the parameter `size` in the function `np.randint` to set up `size = (n_realiz,t_max)`\n",
    "> 4. As *Exercise 14* , we apply the function `np.where` to replace `0` to `-1`\n",
    "> 5. We apply the function `np.cumsum` along the rows by adjusting the parameter `axis = 1` \n",
    "> 6. we will have to transpose `y` to plot the results by each column"
   ]
  },
  {
   "cell_type": "code",
   "execution_count": null,
   "metadata": {},
   "outputs": [],
   "source": [
    "t_max = 100                                             # Set the size to 100\n",
    "n_realiz = 20                                           # Set the independent realisations to 20\n",
    "array_ex16 = randint(0, 2, size = (n_realiz,t_max))     # Create a 2d array to store the 20 independent realisations\n",
    "array_ex16 = np.where(array_ex16 == 1, array_ex16, -1)  # replace all 0 to -1\n",
    "ex16_y = np.cumsum(array_ex16, axis=1)                  # calculate the cumsum along the rows with argument `axis = 1` \n",
    "plt.plot(range(t_max), ex16_y.T)                        # transpose the array to and plot the result\n",
    "plt.title(\n",
    "    'Exercise 16 - 20 independent realisations'         # Add title\n",
    "    '$y_i = \\sum_{j=1}^{i} ϵ_j$')  \n",
    "plt.xlabel('i'); plt.ylabel('$ \\sum$')                  # Add x,y labels"
   ]
  },
  {
   "cell_type": "markdown",
   "metadata": {},
   "source": [
    "## Exercise 17\n",
    "Plot m = 20 independent realisations of the following stochastic process y on the same graph in different colours. \n",
    "\n",
    "Let $ y = (y_0, y_1, …, y_n) $, where $y_t = p_0 × exp( \\sum_{i=1}^{i=t} r_i)$ where $r_i ∼ N(μ, {σ^2})$. \n",
    "Use the parameterisation n=100, $p_0$ = 100, $μ$ = 0, $σ^2$ = 0.005.\n",
    "\n",
    "Once again, your solution should not make use of a for loop.\n",
    "\n",
    "> My thoughts:\n",
    "> 1. The whole process should be just like exercise 16\n",
    "> 2. First, we setup the parameters $n, m, p_0, μ, σ^2$ and calculate $σ$ for the `np.normal()` function\n",
    "> 3. Next, we create the array containing 20 independent realisations by setting the `size` parameter in function `np.normal()`\n",
    "> 4. We transform the formula $y_t = p_0 × exp( \\sum_{i=1}^{i=t} r_i)$ into a numpy funciton `yt = p0 * np.exp(np.cumsum(xt, axis=1))`\n",
    "> 5. Plot the result by each column"
   ]
  },
  {
   "cell_type": "code",
   "execution_count": null,
   "metadata": {},
   "outputs": [],
   "source": [
    "# parameters\n",
    "n_max = 100         # Set the size to 100\n",
    "m_realiz = 20       # Set the independent realisations to 20\n",
    "p0 = 100            # Set p0 = 100\n",
    "mu = 0              # Set mean to 0\n",
    "var = 0.005         # Set σ^2 to 0.005\n",
    "std = np.sqrt(var)  # Calculate the std\n",
    "\n",
    "#Two-by-four array of samples from N(3, 6.25):\n",
    "#>>> np.random.normal(3, 2.5, size=(2, 4))\n",
    "array_ex17 = normal(mu, std, size = (m_realiz, n_max))\n",
    "ex17_y = p0 * np.exp(np.cumsum(array_ex17, axis=1))\n",
    "\n",
    "plt.plot(range(n_max), ex17_y.T)                        # transpose the array to and plot the result\n",
    "plt.title('Exercise 17 ')  \n",
    "plt.xlabel('i'); plt.ylabel('$ \\sum$')                  # Add x,y labels"
   ]
  },
  {
   "cell_type": "markdown",
   "metadata": {},
   "source": [
    "## Exercise 18\n",
    "Write a Python function that implements the quadratic formula for finding the roots of a quadratic function, \n",
    "in such a way that it does not suffer from at least one of the two potential sources of catastrophic cancellation.\n",
    "\n",
    "> My thoughts:\n",
    "> 1. To find roots of a quadratic, we can apply the quadratic formula:  $ x =  \\frac {{-b}  \\pm {\\sqrt {{b^2}-{4ac}}}} {2a}$\n",
    "> 2. The catastrophic cancellation might occur when adding two nearly equal numbers of opposite sign, at least one of them will error in due to roundoff, returning a result with large relative error.\n",
    "> 3. The catastrophic cancellation mostly happen when $b^2$ >> 4ac on the root $ x =  \\frac {{-b}  + {\\sqrt {{b^2}-{4ac}}}} {2a}$\n",
    "> 4. So we can change the root into $ x =  \\frac {2c} {a*({-b} - {\\sqrt {{b^2}-{4ac}}})}$ and keep the root $ x =  \\frac {{-b}  - {\\sqrt {{b^2}-{4ac}}}} {2a}$\n",
    "> 5. We create a function called `quadratic_solver` and takes in three parameters `a, b, c` which corresponds to the quadratic function $y = ax^2 + bx +c$\n",
    "> 6. Concider three different situations: \n",
    "    >- $b^2−4ac$=0 there is one real root.\n",
    "    >- $b^2−4ac>0$ there are two real roots.\n",
    "    >- $b^2−4ac<0$ there are no real roots.\n",
    "    we assign the result of $b^2−4ac$ to a variable `check_sit` and choose the situations by the value of `check_sit`\n",
    "> 7. Call the `qudratic_solver` function to check if the result is nice and clear"
   ]
  },
  {
   "cell_type": "code",
   "execution_count": null,
   "metadata": {},
   "outputs": [],
   "source": [
    "def quadratic_solver(a, b, c):\n",
    "    '''\n",
    "    A function solving quadratic equations\n",
    "    Input:\n",
    "    a,b,c: int\n",
    "    the parameters of the equation\n",
    "    \n",
    "    Output:\n",
    "    string: the result of solving the equation\n",
    "    '''\n",
    "    print('y=%dx^2 + %dx + %d'%(a,b,c))                     # Print the equation to let the user check if the input is right\n",
    "    check_sit = b**2 - 4*a*c                                # Calculate b**2 - 4ac\n",
    "    if check_sit < 0 :                                      # No real root situation\n",
    "        return 'No real roots'\n",
    "    elif check_sit == 0:                                    # One single root situation\n",
    "        return  'One real root : %f' %((-b)/(2*a))\n",
    "    else:                                                   # Two real root situation\n",
    "        root1 = (-b - np.sqrt(check_sit))/(2*a)             # first root doesn't occur catastrophic cancellation\n",
    "        root2 = ( 2*c ) / (a * (-b - np.sqrt(check_sit)))   # the second root is changed into 2c/(a*(-b-sqrt(b**2-4ac))) to avoid catastrophic cancellation\n",
    "        #root2 = (-b + np.sqrt(b**2 - 4*a*c))/(2*a)         # The original solution\n",
    "        return 'Two real root : %f, %f'%(root1, root2)      # Return the roots\n",
    "\n",
    "#try if the answer is right\n",
    "quadratic_solver(1,1e6,4)                                       \n",
    "\n",
    "        "
   ]
  }
 ],
 "metadata": {
  "kernelspec": {
   "display_name": "Python 3",
   "language": "python",
   "name": "python3"
  },
  "language_info": {
   "codemirror_mode": {
    "name": "ipython",
    "version": 3
   },
   "file_extension": ".py",
   "mimetype": "text/x-python",
   "name": "python",
   "nbconvert_exporter": "python",
   "pygments_lexer": "ipython3",
   "version": "3.11.5"
  },
  "orig_nbformat": 4
 },
 "nbformat": 4,
 "nbformat_minor": 2
}
