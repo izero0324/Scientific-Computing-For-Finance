{
 "cells": [
  {
   "cell_type": "markdown",
   "metadata": {},
   "source": [
    "# Lab Session 4 - Coursework Assignment #1\n",
    "\n",
    ">These exercises will be part of your formal assessment. They constitute half the coursework for this module, and 10% of the overall mark.\n",
    "\n",
    ">You should create a Jupyter Notebook, Word document, or PDF file (although using Jupyter Notebook is the strongly preferred option here), which contains all of your Python code, and any output that it produces. For longer solutions, you should also make use of Python comments, as well as additional written explanations of your code. You must submit the final .ipynb file to KEATS no later than the deadline on 10 November. This deadline is set so as to give you a large amount of time and freedom for working on this piece of coursework, but it is expected that you are able to submit the solutions much sooner than this deadline, and you are encouraged to do so. You may discuss the exercises with each other, but the final report should be your own work, and you must ensure that you have read the school's policy regarding plagiarism. Plagiarism is passing off someone else’s work as your own, and the penalties for plagiarising by the College can be severe. Uploading work to KEATS is regarded by the Department as a statement by the student concerned, confirming that the work has not been plagiarised.\n"
   ]
  },
  {
   "cell_type": "markdown",
   "metadata": {},
   "source": [
    "## Assessment criteria\n",
    "> The final mark awarded will be based on a qualitative assessment of your work. In addition to the correctness of your solution, the criteria used in assessing your work will include the clarity and coherence of your written explanations, the clarity of your graphs (ensure that axes are correctly labelled and that the graph has a title), readability of the code, and the lack of duplicated elements in your code."
   ]
  },
  {
   "cell_type": "markdown",
   "metadata": {},
   "source": [
    "## Preliminaries\n",
    "Execute the following import statements and directive."
   ]
  },
  {
   "cell_type": "code",
   "execution_count": 1,
   "metadata": {},
   "outputs": [],
   "source": [
    "import numpy as np\n",
    "import matplotlib.pyplot as plt\n",
    "%matplotlib inline "
   ]
  },
  {
   "cell_type": "markdown",
   "metadata": {},
   "source": [
    "## Exercise 1\n",
    "Create an array of floating-point numbers from 0 (inclusive) to 10 (exclusive), counting in increments of 0.2. You should not use a loop for this exercise.\n",
    "\n",
    "> My thoughts: While I can't use a loop in this exercise, means we can't use either a for loop nor a while loop.\n",
    "> 1. The first solution comes into my mind will be building up an array with the numpy libary `np.arange` to form the array\n",
    "> 2. The function `np.arange` takes three arguments (start, stop, step), and it's (0, 10, 0.2) to fit the requirements."
   ]
  },
  {
   "cell_type": "code",
   "execution_count": 3,
   "metadata": {},
   "outputs": [
    {
     "name": "stdout",
     "output_type": "stream",
     "text": [
      "The Array for Exercise 1 is : [0.  0.2 0.4 0.6 0.8 1.  1.2 1.4 1.6 1.8 2.  2.2 2.4 2.6 2.8 3.  3.2 3.4\n",
      " 3.6 3.8 4.  4.2 4.4 4.6 4.8 5.  5.2 5.4 5.6 5.8 6.  6.2 6.4 6.6 6.8 7.\n",
      " 7.2 7.4 7.6 7.8 8.  8.2 8.4 8.6 8.8 9.  9.2 9.4 9.6 9.8]\n"
     ]
    }
   ],
   "source": [
    "# Build an array named array_ex1, the arguments in the function np.arrange is (start, stop, step)\n",
    "array_ex1 = np.arange(0, 10, 0.2) \n",
    "print('The Array for Exercise 1 is :', array_ex1) # print out the array and check if it's right"
   ]
  },
  {
   "cell_type": "markdown",
   "metadata": {},
   "source": [
    "## Exercise 2\n",
    "Create another array that contains the square of every value from the previous exercise. Again, you should not make use of a loop.\n",
    "\n",
    "> My thoughts: \n",
    "> 1. To create an array based on the previous array, we don't need to call the function `np.arange` again. (Following the ''DRY'' principle)\n",
    "> 2. While we still can't use a loop, I concider using a `map` function and a `lambda` function `x: x**2` to create the square of every value from the array we've created in *Exercise 1*\n",
    "> 3. I transform the array to a list to make the mapping easier. As a result, I use the build-in function tolist() to make thee array `array_ex1` into a list, and use the `list()` function to transform the whole map to a list.\n",
    "> 4. Finally, I transfer the mapped list into a `np.array` again and assign it to a new array `array_ex2`"
   ]
  },
  {
   "cell_type": "code",
   "execution_count": 19,
   "metadata": {},
   "outputs": [
    {
     "name": "stdout",
     "output_type": "stream",
     "text": [
      "[0.000e+00 4.000e-02 1.600e-01 3.600e-01 6.400e-01 1.000e+00 1.440e+00\n",
      " 1.960e+00 2.560e+00 3.240e+00 4.000e+00 4.840e+00 5.760e+00 6.760e+00\n",
      " 7.840e+00 9.000e+00 1.024e+01 1.156e+01 1.296e+01 1.444e+01 1.600e+01\n",
      " 1.764e+01 1.936e+01 2.116e+01 2.304e+01 2.500e+01 2.704e+01 2.916e+01\n",
      " 3.136e+01 3.364e+01 3.600e+01 3.844e+01 4.096e+01 4.356e+01 4.624e+01\n",
      " 4.900e+01 5.184e+01 5.476e+01 5.776e+01 6.084e+01 6.400e+01 6.724e+01\n",
      " 7.056e+01 7.396e+01 7.744e+01 8.100e+01 8.464e+01 8.836e+01 9.216e+01\n",
      " 9.604e+01]\n"
     ]
    }
   ],
   "source": [
    "# Build a new array named array_ex2. \n",
    "array_ex2 = np.array(list(map(lambda x : x ** 2 , array_ex1.tolist())))\n",
    "print('The Array for Exercise 1 is :', array_ex2)        # print the array to check the output"
   ]
  },
  {
   "cell_type": "markdown",
   "metadata": {},
   "source": [
    "## Exercise 3\n",
    "Plot the function y = x ** 2 over the domain [0, 10) in increments of 0.2.\n",
    "\n",
    "> My thoughts: \n",
    "> 1. To plot in Python, we'll have to import the libary `matplotlib`. \n",
    "> 2. The specific funtion `matplotlib.plot` was imported as `plt` during preliminary.\n",
    "> 3. We'll need a X axis over the domain [0,10) in increments of 0.2, which is exactly the array we built `array_ex1`.\n",
    "> 4. The y axis equals to the square of every point in the array `array_ex1`, and which is the array we built in the exercise 2.\n",
    "> 5. We use the function `plt.plot` to plot the diagram. The argments are (x_axis, y_axis)\n",
    "> 6. To make the graph clear, I add title, and xy labels on to the graph"
   ]
  },
  {
   "cell_type": "code",
   "execution_count": 22,
   "metadata": {},
   "outputs": [
    {
     "data": {
      "text/plain": [
       "Text(0, 0.5, 'y')"
      ]
     },
     "execution_count": 22,
     "metadata": {},
     "output_type": "execute_result"
    },
    {
     "data": {
      "image/png": "[encoded data removed]",
      "text/plain": [
       "<Figure size 640x480 with 1 Axes>"
      ]
     },
     "metadata": {},
     "output_type": "display_data"
    }
   ],
   "source": [
    "plt.plot(array_ex1, array_ex2)              # plot the function\n",
    "plt.title(\"Exercise 3 - Plot 'y = x ** 2'\") # add title for the diagram\n",
    "plt.xlabel(\"x\")                             # add label for x axis\n",
    "plt.ylabel(\"y\")                             # add label for y axis"
   ]
  },
  {
   "cell_type": "code",
   "execution_count": null,
   "metadata": {},
   "outputs": [],
   "source": []
  }
 ],
 "metadata": {
  "kernelspec": {
   "display_name": "Python 3",
   "language": "python",
   "name": "python3"
  },
  "language_info": {
   "codemirror_mode": {
    "name": "ipython",
    "version": 3
   },
   "file_extension": ".py",
   "mimetype": "text/x-python",
   "name": "python",
   "nbconvert_exporter": "python",
   "pygments_lexer": "ipython3",
   "version": "3.11.5"
  },
  "orig_nbformat": 4
 },
 "nbformat": 4,
 "nbformat_minor": 2
}
