{
 "cells": [
  {
   "cell_type": "markdown",
   "metadata": {},
   "source": [
    "# Scientific Computing for Finance Lab 02"
   ]
  },
  {
   "cell_type": "markdown",
   "metadata": {},
   "source": [
    "## Question 1\n",
    "### Greeter\n",
    "Write a function that takes in a person's name, and prints out a greeting. The person's name must appear in the greeting message.\n",
    "\n",
    "Use your function to greet at least three different people.\n",
    "\n",
    "Store your three people in a list, and call your function from a for loop."
   ]
  },
  {
   "cell_type": "code",
   "execution_count": 1,
   "metadata": {},
   "outputs": [
    {
     "name": "stdout",
     "output_type": "stream",
     "text": [
      "Hello!  Andy\n",
      "Hello!  Billy\n",
      "Hello!  Cody\n"
     ]
    }
   ],
   "source": [
    "def greeter (greet_name: str):\n",
    "    '''\n",
    "    A greeting Function that prints a greeting to an input name\n",
    "    Input:\n",
    "    greet_name : str\n",
    "    Output:\n",
    "    Std_out\n",
    "    '''\n",
    "    print(\"Hello! \", greet_name)\n",
    "\n",
    "ppl_list = [\"Andy\", \"Billy\", \"Cody\"] #a list of three people\n",
    "\n",
    "#calling the greeter function by for-loop\n",
    "for name in ppl_list:\n",
    "    greeter(name)"
   ]
  },
  {
   "cell_type": "markdown",
   "metadata": {},
   "source": [
    "## Question 2\n",
    "### Full names\n",
    "Write a function that takes in a first name and a last name, and prints out a nicely formatted full name, in a sentence. Your sentence could be as simple as, \"Hello, full_name.\"\n",
    "Call your function three times, with a different name each time. "
   ]
  },
  {
   "cell_type": "code",
   "execution_count": 6,
   "metadata": {},
   "outputs": [
    {
     "name": "stdout",
     "output_type": "stream",
     "text": [
      "Hello!  Andy Lau\n",
      "Hello!  Billy Martin\n",
      "Hello!  Cody Christopher\n"
     ]
    }
   ],
   "source": [
    "def greetings_full_name(first_name: str, last_name: str):\n",
    "    '''\n",
    "    A greeting Function that prints a greeting to an input name\n",
    "    Input:\n",
    "    first_name : str\n",
    "    last_name : str\n",
    "    Output:\n",
    "    Std_out\n",
    "    '''\n",
    "    print(\"Hello! \", first_name + ' ' +  last_name)\n",
    "\n",
    "# a list of three people with fist and last names\n",
    "ppl_list_full_name = [(\"Andy\", \"Lau\"), (\"Billy\", \"Martin\"), (\"Cody\", \"Christopher\")] \n",
    "\n",
    "# Call function 3 times with different names\n",
    "for n in range(3):\n",
    "    greetings_full_name(ppl_list_full_name[n][0], ppl_list_full_name[n][1])"
   ]
  },
  {
   "cell_type": "markdown",
   "metadata": {},
   "source": [
    "## Question 3\n",
    "### Print adder\n",
    "Write a function that takes in two numbers, adds them together and then prints out a sentence showing the two numbers, and the result.\n",
    "Call your function with three different sets of numbers."
   ]
  },
  {
   "cell_type": "code",
   "execution_count": 18,
   "metadata": {},
   "outputs": [
    {
     "name": "stdout",
     "output_type": "stream",
     "text": [
      "The first number is 2 and the second number is 4\n",
      "The first number is 13 and the second number is 5\n",
      "The first number is 777 and the second number is 5487\n"
     ]
    }
   ],
   "source": [
    "def print_adder(num1: int, num2: int):\n",
    "    '''\n",
    "    A Function that prints out the two input numbers \n",
    "    Input:\n",
    "    num1 : int\n",
    "    num2: int\n",
    "    Output:\n",
    "    Std_out\n",
    "    '''\n",
    "    print(\"The first number is %d and the second number is %d\" %(num1 ,num2))\n",
    "\n",
    "number_sets = ({2, 4}, {5, 13}, {777, 5487}) # 3 number sets\n",
    "\n",
    "for num_set in number_sets:\n",
    "    a, b = num_set\n",
    "    print_adder(a, b)\n",
    "\n",
    "\n"
   ]
  },
  {
   "cell_type": "markdown",
   "metadata": {},
   "source": [
    "## Question 4\n",
    "### Return adder\n",
    "Modify Addition Calculator so that your function returns the sum of the two numbers. The printing should happen outside of the function."
   ]
  },
  {
   "cell_type": "code",
   "execution_count": null,
   "metadata": {},
   "outputs": [],
   "source": []
  },
  {
   "cell_type": "markdown",
   "metadata": {},
   "source": [
    "\n",
    "\n",
    "\n",
    "\n",
    "\n",
    "List counter\n",
    "Write a function which prints out the message \"There are several items in the list\". The message should only be printed if the number of elements in the list is greater than two.\n",
    "Test your function by calling it with different sizes of list.\n",
    "Advanced list counter\n",
    "Modifty the function from the previous exercise so that it prints the following messages depending on how many items are in the list.\n",
    "\n",
    "'There are several items in the list'\n",
    "'There are two items in the list'\n",
    "'There is a single item in the list'\n",
    "'There are no items in the list'\n",
    "Test your function by calling it with different sized lists.\n",
    "\n",
    "Quadratic calculator\n",
    "Write a function which takes a single floating-point argument, and computes the quadratic equation  𝑦=𝑎𝑥2+𝑏𝑥+𝑐\n",
    " , returning the result  𝑦\n",
    " . Use the coefficients  𝑎=5\n",
    " ,  𝑏=10\n",
    "  and  𝑐=15\n",
    " .\n",
    "\n",
    "Test your function by calling it with several values of  𝑥\n",
    "  and print the result outside of the function.\n",
    "\n",
    "Advanced quadratic calculator\n",
    "Modifty the function from the previous exercise so that it takes one additional argument, which contains a tuple of the coefficients  𝑎\n",
    " ,  𝑏\n",
    "  and  𝑐\n",
    " . Test your function with different values of  𝑥\n",
    "  and different combinations of coefficients.\n",
    "\n",
    "Vowels and consonants\n",
    "Write a function vowel which returns True if the supplied argument is a vowel, and False otherwise. Test your function.\n",
    "\n",
    "Write a function consonant which returns True if the supplied argument is consonant, and False otherwise. Hint: make use of the previous function.\n",
    "\n",
    "Max\n",
    "Define a function that takes three numbers as (separate) arguments and returns the largest of them. Do not make use of the built-in max() function.\n",
    "\n",
    "Longest word\n",
    "Write a function that takes a list of words and returns the length of the longest one.\n",
    "\n",
    "Long words\n",
    "Write a function that takes a list of words and an integer  𝑛\n",
    "  and returns the list of words that are longer than  𝑛\n",
    " .\n",
    "\n",
    "Generating participles\n",
    "In English, the present participle is formed by adding the suffix -ing to the infinite form: e.g. go -> going. A simple set of heuristic rules can be given as follows:\n",
    "\n",
    "If the verb ends in e, drop the e and add ing; (There are exceptions, such as be, see, flee, knee, etc., but we will not care about those.)\n",
    "\n",
    "If the verb ends in ie, change ie to y and add ing;\n",
    "\n",
    "For words consisting of consonant-vowel-consonant, double the final letter before adding ing;\n",
    "\n",
    "Otherwise, by default, just add ing.\n",
    "\n",
    "Your task in this exercise is to define a function which given a verb in infinitive form returns its present participle form. Test your function with words such as lie, see, move and hug.\n",
    "\n",
    "Factorials\n",
    "Write a function called recursive which takes a single argument, which returns 1 if its argument is zero, otherwise if its argument is greater than zero it should call itself, passing one less than its original argument, and returning the result mulitplied by its original argument.\n",
    "\n",
    "Write down the mathematical expression for this function.\n",
    "\n",
    "Write a function which performs the same calculation, using a for-loop instead of calling itself.\n",
    "\n",
    "Recursive Fibonacci\n",
    "Functions which call themselves are called recursive functions. The function that you wrote in the last lab, which computed the Fibonacci numbers, was probably not written in a recursive way. Write a recursive function that takes as an argument a positive integer  𝑛\n",
    "  and returns the first  𝑛\n",
    "  values of the fibonacci sequence."
   ]
  },
  {
   "cell_type": "markdown",
   "metadata": {},
   "source": []
  }
 ],
 "metadata": {
  "kernelspec": {
   "display_name": "Python 3",
   "language": "python",
   "name": "python3"
  },
  "language_info": {
   "codemirror_mode": {
    "name": "ipython",
    "version": 3
   },
   "file_extension": ".py",
   "mimetype": "text/x-python",
   "name": "python",
   "nbconvert_exporter": "python",
   "pygments_lexer": "ipython3",
   "version": "3.11.5"
  },
  "orig_nbformat": 4
 },
 "nbformat": 4,
 "nbformat_minor": 2
}
