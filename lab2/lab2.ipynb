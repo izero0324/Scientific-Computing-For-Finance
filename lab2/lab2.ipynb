{
 "cells": [
  {
   "cell_type": "markdown",
   "metadata": {},
   "source": [
    "# Scientific Computing for Finance Lab 02"
   ]
  },
  {
   "cell_type": "markdown",
   "metadata": {},
   "source": [
    "## Question 1\n",
    "### Greeter\n",
    "Write a function that takes in a person's name, and prints out a greeting. The person's name must appear in the greeting message.\n",
    "\n",
    "Use your function to greet at least three different people.\n",
    "\n",
    "Store your three people in a list, and call your function from a for loop."
   ]
  },
  {
   "cell_type": "code",
   "execution_count": 1,
   "metadata": {},
   "outputs": [
    {
     "name": "stdout",
     "output_type": "stream",
     "text": [
      "Hello!  Andy\n",
      "Hello!  Billy\n",
      "Hello!  Cody\n"
     ]
    }
   ],
   "source": [
    "def greeter (greet_name: str):\n",
    "    '''\n",
    "    A greeting Function that prints a greeting to an input name\n",
    "    Input:\n",
    "    greet_name : str\n",
    "    Output:\n",
    "    Std_out\n",
    "    '''\n",
    "    print(\"Hello! \", greet_name)\n",
    "\n",
    "ppl_list = [\"Andy\", \"Billy\", \"Cody\"] #a list of three people\n",
    "\n",
    "#calling the greeter function by for-loop\n",
    "for name in ppl_list:\n",
    "    greeter(name)"
   ]
  },
  {
   "cell_type": "markdown",
   "metadata": {},
   "source": [
    "## Question 2\n",
    "### Full names\n",
    "Write a function that takes in a first name and a last name, and prints out a nicely formatted full name, in a sentence. Your sentence could be as simple as, \"Hello, full_name.\"\n",
    "Call your function three times, with a different name each time. "
   ]
  },
  {
   "cell_type": "code",
   "execution_count": 6,
   "metadata": {},
   "outputs": [
    {
     "name": "stdout",
     "output_type": "stream",
     "text": [
      "Hello!  Andy Lau\n",
      "Hello!  Billy Martin\n",
      "Hello!  Cody Christopher\n"
     ]
    }
   ],
   "source": [
    "def greetings_full_name(first_name: str, last_name: str):\n",
    "    '''\n",
    "    A greeting Function that prints a greeting to an input name\n",
    "    Input:\n",
    "    first_name : str\n",
    "    last_name : str\n",
    "    Output:\n",
    "    Std_out\n",
    "    '''\n",
    "    print(\"Hello! \", first_name + ' ' +  last_name)\n",
    "\n",
    "# a list of three people with fist and last names\n",
    "ppl_list_full_name = [(\"Andy\", \"Lau\"), (\"Billy\", \"Martin\"), (\"Cody\", \"Christopher\")] \n",
    "\n",
    "# Call function 3 times with different names\n",
    "for n in range(3):\n",
    "    greetings_full_name(ppl_list_full_name[n][0], ppl_list_full_name[n][1])"
   ]
  },
  {
   "cell_type": "markdown",
   "metadata": {},
   "source": [
    "## Question 3\n",
    "### Print adder\n",
    "Write a function that takes in two numbers, adds them together and then prints out a sentence showing the two numbers, and the result.\n",
    "Call your function with three different sets of numbers."
   ]
  },
  {
   "cell_type": "code",
   "execution_count": 19,
   "metadata": {},
   "outputs": [
    {
     "name": "stdout",
     "output_type": "stream",
     "text": [
      "The first number is 2 and the second number is 4\n",
      "The first number is 13 and the second number is 5\n",
      "The first number is 777 and the second number is 5487\n"
     ]
    }
   ],
   "source": [
    "def print_adder(num1: int, num2: int):\n",
    "    '''\n",
    "    A Function that prints out the two input numbers \n",
    "    Input:\n",
    "    num1 : int\n",
    "    num2: int\n",
    "    Output:\n",
    "    Std_out\n",
    "    '''\n",
    "    print(\"The first number is %d and the second number is %d\" %(num1 ,num2))\n",
    "\n",
    "number_sets = ({2, 4}, {5, 13}, {777, 5487}) # 3 number sets\n",
    "\n",
    "# Call function with three different sets of numbers.\n",
    "for num_set in number_sets:\n",
    "    a, b = num_set\n",
    "    print_adder(a, b)\n",
    "\n",
    "\n"
   ]
  },
  {
   "cell_type": "markdown",
   "metadata": {},
   "source": [
    "## Question 4\n",
    "### Return adder\n",
    "Modify Addition Calculator so that your function returns the sum of the two numbers. The printing should happen outside of the function."
   ]
  },
  {
   "cell_type": "code",
   "execution_count": 23,
   "metadata": {},
   "outputs": [
    {
     "name": "stdout",
     "output_type": "stream",
     "text": [
      "The sum of 15 and 23 is 38\n"
     ]
    }
   ],
   "source": [
    "def add_cal(num1: int, num2: int):\n",
    "    '''\n",
    "    A Function that returms the sum of two input numbers \n",
    "    Input:\n",
    "    num1 : int\n",
    "    num2: int\n",
    "    Output:\n",
    "    num1 + num2 : int\n",
    "    '''\n",
    "    return num1 + num2\n",
    "\n",
    "# define 2 numbers \n",
    "n1 = 15\n",
    "n2 = 23\n",
    "\n",
    "# print the sum\n",
    "print(\"The sum of %d and %d is %d\" %(n1, n2, add_cal(n1,n2)))"
   ]
  },
  {
   "cell_type": "markdown",
   "metadata": {},
   "source": [
    "## Question 5\n",
    "### List counter\n",
    "Write a function which prints out the message \"There are several items in the list\". The message should only be printed if the number of elements in the list is greater than two.\n",
    "Test your function by calling it with different sizes of list."
   ]
  },
  {
   "cell_type": "code",
   "execution_count": 27,
   "metadata": {},
   "outputs": [
    {
     "name": "stdout",
     "output_type": "stream",
     "text": [
      "len(list) < 3: \n",
      "len(list) > 2: \n",
      "There are several items in the list\n"
     ]
    }
   ],
   "source": [
    "import random\n",
    "\n",
    "def list_counter(list_n: list):\n",
    "    '''\n",
    "    A function to find out if the length of list is greater than 2\n",
    "    Input \n",
    "    list_n : list\n",
    "    Output:\n",
    "    Std_out\n",
    "    '''\n",
    "    if len(list_n) > 2:\n",
    "        print(\"There are several items in the list\")\n",
    "\n",
    "# make a list of len < 3\n",
    "list_under_2 = [0, 1]\n",
    "\n",
    "# make a random list of len > 2\n",
    "list_greater_2 = []\n",
    "for i in range(0,random.randint(3,10)):\n",
    "    n = random.randint(1,30)\n",
    "    list_greater_2.append(n)\n",
    "\n",
    "# Check the results\n",
    "print(\"len(list) < 3: \")\n",
    "list_counter(list_under_2)\n",
    "print(\"len(list) > 2: \")\n",
    "list_counter(list_greater_2)"
   ]
  },
  {
   "cell_type": "markdown",
   "metadata": {},
   "source": [
    "## Question 6\n",
    "### Advanced list counter\n",
    "Modifty the function from the previous exercise so that it prints the following messages depending on how many items are in the list.\n",
    "\n",
    "- 'There are several items in the list'\n",
    "- 'There are two items in the list'\n",
    "- 'There is a single item in the list'\n",
    "- 'There are no items in the list'\n",
    "\n",
    "Test your function by calling it with different sized lists."
   ]
  },
  {
   "cell_type": "code",
   "execution_count": 29,
   "metadata": {},
   "outputs": [
    {
     "name": "stdout",
     "output_type": "stream",
     "text": [
      "len(list) > 2: \n",
      "There are several items in the list\n",
      "len(list) = 2: \n",
      "There are two items in the list\n",
      "len(list) = 1: \n",
      "There is a single item in the list\n",
      "len(list) = 0: \n",
      "There are no items in the list\n"
     ]
    }
   ],
   "source": [
    "def list_counter_advance(list_n: list):\n",
    "    '''\n",
    "    A function to find out if the length of list is greater than 2\n",
    "    Input \n",
    "    list_n : list\n",
    "    Output:\n",
    "    Std_out\n",
    "    '''\n",
    "    if len(list_n) > 2:\n",
    "        print(\"There are several items in the list\")\n",
    "    elif len(list_n) == 2:\n",
    "        print('There are two items in the list')\n",
    "    elif len(list_n) == 1:\n",
    "        print('There is a single item in the list')\n",
    "    else:\n",
    "        print('There are no items in the list')\n",
    "\n",
    "# Check the results\n",
    "print(\"len(list) > 2: \")\n",
    "list_counter_advance(list_greater_2)\n",
    "print(\"len(list) = 2: \")\n",
    "list_counter_advance(list_under_2)\n",
    "print(\"len(list) = 1: \")\n",
    "list_counter_advance([0])\n",
    "print(\"len(list) = 0: \")\n",
    "list_counter_advance([])"
   ]
  },
  {
   "cell_type": "markdown",
   "metadata": {},
   "source": [
    "## Question 7\n",
    "### Quadratic calculator\n",
    "Write a function which takes a single floating-point argument, and computes the quadratic equation  𝑦=𝑎𝑥2+𝑏𝑥+𝑐\n",
    " , returning the result  𝑦. Use the coefficients  𝑎=5 ,  𝑏=10  and  𝑐=15.\n",
    "\n",
    "Test your function by calling it with several values of  𝑥  and print the result outside of the function."
   ]
  },
  {
   "cell_type": "code",
   "execution_count": 33,
   "metadata": {},
   "outputs": [
    {
     "name": "stdout",
     "output_type": "stream",
     "text": [
      "55\n"
     ]
    }
   ],
   "source": [
    "def Qua_cal(x : float):\n",
    "    '''\n",
    "    A function calculates the equation\n",
    "    Input:\n",
    "    x : float\n",
    "    Output:\n",
    "    y : float\n",
    "    '''\n",
    "    a = 5\n",
    "    b = 10\n",
    "    c = 15\n",
    "    y = a* pow(x,2) + b*x + c\n",
    "    return y\n",
    "\n",
    "print(Qua_cal(2))"
   ]
  },
  {
   "cell_type": "markdown",
   "metadata": {},
   "source": [
    "## Question 8\n",
    "### Advanced quadratic calculator\n",
    "Modifty the function from the previous exercise so that it takes one additional argument, which contains a tuple of the coefficients  𝑎,  𝑏 and  𝑐. \n",
    "\n",
    "Test your function with different values of  𝑥  and different combinations of coefficients.\n"
   ]
  },
  {
   "cell_type": "code",
   "execution_count": 37,
   "metadata": {},
   "outputs": [
    {
     "name": "stdout",
     "output_type": "stream",
     "text": [
      "51\n"
     ]
    }
   ],
   "source": [
    "def Qua_cal(x : float, arg : tuple):\n",
    "    '''\n",
    "    A function calculates the equation\n",
    "    Input:\n",
    "    x : float\n",
    "    arg : tuple\n",
    "    Output:\n",
    "    y : float\n",
    "    '''\n",
    "    a, b, c = arg\n",
    "    y = a* pow(x,2) + b*x + c\n",
    "    return y\n",
    "\n",
    "print(Qua_cal(6, (1, 2, 3)))"
   ]
  },
  {
   "cell_type": "markdown",
   "metadata": {},
   "source": [
    "## Question 9\n",
    "### Vowels and consonants\n",
    "- Write a function vowel which returns True if the supplied argument is a vowel, and False otherwise. Test your function.\n",
    "\n",
    "- Write a function consonant which returns True if the supplied argument is consonant, and False otherwise. Hint: make use of the previous function."
   ]
  },
  {
   "cell_type": "code",
   "execution_count": 47,
   "metadata": {},
   "outputs": [
    {
     "data": {
      "text/plain": [
       "False"
      ]
     },
     "execution_count": 47,
     "metadata": {},
     "output_type": "execute_result"
    }
   ],
   "source": [
    "def vowel(character : chr):\n",
    "    '''\n",
    "    A function to test if the argument is a vowel\n",
    "    Input:\n",
    "    character : chr\n",
    "    Output:\n",
    "    result: bool\n",
    "    '''\n",
    "    vowel_list = ['a', 'e', 'i', 'o', 'u']\n",
    "    assert len(character) == 1, \"Error! You can't input more than 1 character\"\n",
    "    if character in vowel_list:\n",
    "        return True\n",
    "    return False\n",
    "\n",
    "def consonant(character : chr):\n",
    "    '''\n",
    "    A function to test if the argument is a consonant accoring to the vowel function\n",
    "    Input:\n",
    "    character : chr\n",
    "    Output:\n",
    "    result: bool\n",
    "    '''\n",
    "    return not vowel(character)\n",
    "\n",
    "consonant('a')"
   ]
  },
  {
   "cell_type": "markdown",
   "metadata": {},
   "source": [
    "## Question 10\n",
    "### Max\n",
    "Define a function that takes three numbers as (separate) arguments and returns the largest of them. Do not make use of the built-in max() function."
   ]
  },
  {
   "cell_type": "code",
   "execution_count": 50,
   "metadata": {},
   "outputs": [
    {
     "data": {
      "text/plain": [
       "1.36"
      ]
     },
     "execution_count": 50,
     "metadata": {},
     "output_type": "execute_result"
    }
   ],
   "source": [
    "def max_for_3(a: float, b: float, c: float):\n",
    "    '''\n",
    "    A function finding the max number without using the max function\n",
    "    Input:\n",
    "    a, b, c : float\n",
    "    Output:\n",
    "    max : float\n",
    "    '''\n",
    "    max = float('-inf')\n",
    "    input_nums = a, b, c\n",
    "    for num in input_nums:\n",
    "        if num > max:\n",
    "            max = num\n",
    "    return max\n",
    "\n",
    "max_for_3(1.36, -0.33333, -987)"
   ]
  },
  {
   "cell_type": "markdown",
   "metadata": {},
   "source": [
    "## Question 11\n",
    "### Longest word\n",
    "Write a function that takes a list of words and returns the length of the longest one."
   ]
  },
  {
   "cell_type": "code",
   "execution_count": 53,
   "metadata": {},
   "outputs": [
    {
     "data": {
      "text/plain": [
       "'AttributeError'"
      ]
     },
     "execution_count": 53,
     "metadata": {},
     "output_type": "execute_result"
    }
   ],
   "source": [
    "def longest_word(word_list : list):\n",
    "    '''\n",
    "    Returns the longest word in the input list\n",
    "    Input:\n",
    "    word_list : list\n",
    "    Output:\n",
    "    longest: str\n",
    "    '''\n",
    "    longest = ''\n",
    "    for word in word_list:\n",
    "        if len(word) > len(longest):\n",
    "            longest = word\n",
    "    return longest\n",
    "\n",
    "longest_word(['Error', 'Assertion', 'AttributeError', 'BaseException'])"
   ]
  },
  {
   "cell_type": "markdown",
   "metadata": {},
   "source": [
    "## Question 12\n",
    "### Long words\n",
    "Write a function that takes a list of words and an integer  𝑛 and returns the list of words that are longer than  𝑛."
   ]
  },
  {
   "cell_type": "code",
   "execution_count": 54,
   "metadata": {},
   "outputs": [
    {
     "data": {
      "text/plain": [
       "['Assertion', 'AttributeError', 'BaseException']"
      ]
     },
     "execution_count": 54,
     "metadata": {},
     "output_type": "execute_result"
    }
   ],
   "source": [
    "def longest_word(word_list : list, n : int):\n",
    "    '''\n",
    "    Returns words longer than n in the input list\n",
    "    Input:\n",
    "    word_list : list\n",
    "    n: int\n",
    "    Output:\n",
    "    longer_words : list \n",
    "    '''\n",
    "    longer_words = []\n",
    "    for word in word_list:\n",
    "        if len(word) > n:\n",
    "            longer_words.append(word)\n",
    "    return longer_words\n",
    "\n",
    "longest_word(['Error', 'Assertion', 'AttributeError', 'BaseException'], 5)"
   ]
  },
  {
   "cell_type": "markdown",
   "metadata": {},
   "source": [
    "## Question 13\n",
    "### Generating participles\n",
    "In English, the present participle is formed by adding the suffix -ing to the infinite form: e.g. go -> going. A simple set of heuristic rules can be given as follows:\n",
    "\n",
    "- If the verb ends in e, drop the e and add ing; (There are exceptions, such as be, see, flee, knee, etc., but we will not care about those.)\n",
    "\n",
    "- If the verb ends in ie, change ie to y and add ing;\n",
    "\n",
    "- For words consisting of consonant-vowel-consonant, double the final letter before adding ing;\n",
    "\n",
    "- Otherwise, by default, just add ing.\n",
    "\n",
    "Your task in this exercise is to define a function which given a verb in infinitive form returns its present participle form. Test your function with words such as lie, see, move and hug."
   ]
  },
  {
   "cell_type": "code",
   "execution_count": 57,
   "metadata": {},
   "outputs": [
    {
     "name": "stdout",
     "output_type": "stream",
     "text": [
      "lying\n",
      "seing\n",
      "moving\n",
      "hugging\n"
     ]
    }
   ],
   "source": [
    "def participles_gen(verb: str):\n",
    "    '''\n",
    "    Returns the participle of a verb\n",
    "    Input:\n",
    "    verb : str\n",
    "    Output:\n",
    "    str\n",
    "    '''\n",
    "    if verb[-2:] == 'ie':\n",
    "        return verb[:-2] + 'ying'\n",
    "    elif verb[-1] == 'e':\n",
    "        return verb[:-1] + 'ing'\n",
    "    elif consonant(verb[-3]) and vowel(verb[-2]) and consonant(verb[-1]):\n",
    "        return verb + verb[-1] + 'ing'\n",
    "    else:\n",
    "        return verb + 'ing'\n",
    "\n",
    "test_list = ['lie', 'see', 'move', 'hug']\n",
    "for word in test_list:\n",
    "    print(participles_gen(word))"
   ]
  },
  {
   "cell_type": "markdown",
   "metadata": {},
   "source": [
    "## Question 14\n",
    "### Factorials\n",
    "Write a function called recursive which takes a single argument, which returns 1 if its argument is zero, otherwise if its argument is greater than zero it should call itself, passing one less than its original argument, and returning the result mulitplied by its original argument.\n",
    "\n",
    "Write down the mathematical expression for this function.\n",
    "\n",
    "Write a function which performs the same calculation, using a for-loop instead of calling itself."
   ]
  },
  {
   "cell_type": "code",
   "execution_count": 60,
   "metadata": {},
   "outputs": [
    {
     "data": {
      "text/plain": [
       "24"
      ]
     },
     "execution_count": 60,
     "metadata": {},
     "output_type": "execute_result"
    }
   ],
   "source": [
    "def recursive(n: int):\n",
    "    ''' \n",
    "    Factorial function of n\n",
    "    Input:\n",
    "    n : int\n",
    "    Output:\n",
    "    factorial : int\n",
    "    '''\n",
    "    if n == 0:\n",
    "        return 1\n",
    "    else:\n",
    "        return n * recursive(n-1)\n",
    "    \n",
    "recursive(4)"
   ]
  },
  {
   "cell_type": "markdown",
   "metadata": {},
   "source": [
    "## Question 15\n",
    "### Recursive Fibonacci\n",
    "Functions which call themselves are called recursive functions. The function that you wrote in the last lab, which computed the Fibonacci numbers, was probably not written in a recursive way. Write a recursive function that takes as an argument a positive integer  𝑛\n",
    "  and returns the first  𝑛\n",
    "  values of the fibonacci sequence."
   ]
  },
  {
   "cell_type": "code",
   "execution_count": 68,
   "metadata": {},
   "outputs": [
    {
     "name": "stdout",
     "output_type": "stream",
     "text": [
      "1\n",
      "1\n",
      "2\n",
      "3\n",
      "5\n",
      "8\n",
      "13\n",
      "21\n"
     ]
    }
   ],
   "source": [
    "def fib(n):\n",
    "    ''' \n",
    "    Return the fib seq of n\n",
    "    Input:\n",
    "    n : int\n",
    "    Output:\n",
    "    fib(n): int\n",
    "    '''\n",
    "    if n == 0:\n",
    "        return 0\n",
    "    elif n == 1:\n",
    "        return 1\n",
    "    else:\n",
    "        return fib(n-1) + fib(n-2)\n",
    "\n",
    "def print_fib_seq(n):\n",
    "    ''' \n",
    "    Prints out the fib seq\n",
    "    Input:\n",
    "    n : int\n",
    "    Output:\n",
    "    Std_out\n",
    "    '''\n",
    "    for i in range(1,n+1):\n",
    "        print(fib(i))\n",
    "print_fib_seq(8)"
   ]
  },
  {
   "cell_type": "code",
   "execution_count": null,
   "metadata": {},
   "outputs": [],
   "source": []
  }
 ],
 "metadata": {
  "kernelspec": {
   "display_name": "Python 3",
   "language": "python",
   "name": "python3"
  },
  "language_info": {
   "codemirror_mode": {
    "name": "ipython",
    "version": 3
   },
   "file_extension": ".py",
   "mimetype": "text/x-python",
   "name": "python",
   "nbconvert_exporter": "python",
   "pygments_lexer": "ipython3",
   "version": "3.11.5"
  },
  "orig_nbformat": 4
 },
 "nbformat": 4,
 "nbformat_minor": 2
}
